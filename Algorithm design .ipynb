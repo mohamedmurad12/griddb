{
 "cells": [
  {
   "cell_type": "code",
   "execution_count": 1,
   "id": "afe28969",
   "metadata": {},
   "outputs": [
    {
     "data": {
      "text/plain": [
       "60"
      ]
     },
     "execution_count": 1,
     "metadata": {},
     "output_type": "execute_result"
    }
   ],
   "source": [
    "def max_profit(jobs):\n",
    "  # Sort the jobs by deadline.\n",
    "    jobs.sort(key=lambda job: job[1])\n",
    "\n",
    "  # Create a table to store the maximum profit that can be obtained by scheduling jobs\n",
    "  # up to a given deadline.\n",
    "    profit_table = [0] * (jobs[-1][1] +1 )\n",
    "  # Initialize the profit table.\n",
    "    for i in range(1, len(profit_table)):\n",
    "        profit_table[i] = profit_table[i - 1]\n",
    "  # Iterate over the jobs.\n",
    "        for job in jobs:\n",
    "    # Update the profit table.\n",
    "            profit_table[job[1]] = max(profit_table[job[1]], profit_table[job[1] - 1] + job[2])\n",
    "  # Return the maximum profit.\n",
    "    return profit_table[-1]\n",
    "\n",
    "max_profit([(1,4,20),(2,1,10),(3,1,40),(4,1,30)])"
   ]
  },
  {
   "cell_type": "code",
   "execution_count": 2,
   "id": "2a0ca854",
   "metadata": {},
   "outputs": [
    {
     "name": "stdout",
     "output_type": "stream",
     "text": [
      "Maximum profit: 10\n"
     ]
    }
   ],
   "source": [
    "def find_max_profit(jobs):\n",
    "    # Sort jobs based on end times in ascending order\n",
    "    jobs.sort(key=lambda x: x[1])\n",
    "\n",
    "    n = len(jobs)\n",
    "    profit_table = [0] * n\n",
    "    \n",
    "    profit_table[0] = jobs[0][2]  # Initialize dp[0] with the profit of the first job\n",
    "    for i in range(1, n):\n",
    "        # Find the last non-overlapping job\n",
    "        overlap = -1\n",
    "        for j in range(i , -1, -1):\n",
    "            if jobs[j][1] <= jobs[i][0]:\n",
    "                \n",
    "                overlap = j\n",
    "                break\n",
    "\n",
    "        # Calculate the maximum profit at the current job\n",
    "        include_profit = jobs[i][2]\n",
    "        if overlap != -1:\n",
    "            include_profit += profit_table[overlap]\n",
    "            \n",
    "        # Calculate the maximum profit without including the current job\n",
    "        \n",
    "        exclude_profit = profit_table[i - 1]\n",
    "        # Take the maximum profit between including and excluding the current job\n",
    "        profit_table[i] = max(include_profit, exclude_profit)\n",
    "    # Return the maximum profit achievable\n",
    "    return profit_table[n-1 ]\n",
    "\n",
    "\n",
    "# Example usage\n",
    "jobs = [[1, 6, 6], [2, 5, 5], [5, 7, 5], [6, 8, 3]]\n",
    "max_profit = find_max_profit(jobs)\n",
    "print(\"Maximum profit:\", max_profit)"
   ]
  },
  {
   "cell_type": "code",
   "execution_count": null,
   "id": "799a172b",
   "metadata": {},
   "outputs": [],
   "source": []
  }
 ],
 "metadata": {
  "kernelspec": {
   "display_name": "Python 3 (ipykernel)",
   "language": "python",
   "name": "python3"
  },
  "language_info": {
   "codemirror_mode": {
    "name": "ipython",
    "version": 3
   },
   "file_extension": ".py",
   "mimetype": "text/x-python",
   "name": "python",
   "nbconvert_exporter": "python",
   "pygments_lexer": "ipython3",
   "version": "3.9.12"
  }
 },
 "nbformat": 4,
 "nbformat_minor": 5
}
